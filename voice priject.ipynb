{
 "cells": [
  {
   "cell_type": "code",
   "execution_count": 1,
   "metadata": {},
   "outputs": [],
   "source": [
    "import pyttsx3 "
   ]
  },
  {
   "cell_type": "code",
   "execution_count": 2,
   "metadata": {},
   "outputs": [],
   "source": [
    "import speech_recognition as sr "
   ]
  },
  {
   "cell_type": "code",
   "execution_count": 3,
   "metadata": {},
   "outputs": [],
   "source": [
    "import datetime"
   ]
  },
  {
   "cell_type": "code",
   "execution_count": 4,
   "metadata": {},
   "outputs": [],
   "source": [
    "import wikipedia"
   ]
  },
  {
   "cell_type": "code",
   "execution_count": 5,
   "metadata": {},
   "outputs": [],
   "source": [
    "import webbrowser"
   ]
  },
  {
   "cell_type": "code",
   "execution_count": 6,
   "metadata": {},
   "outputs": [],
   "source": [
    "import os"
   ]
  },
  {
   "cell_type": "code",
   "execution_count": 7,
   "metadata": {},
   "outputs": [],
   "source": [
    "import smtplib"
   ]
  },
  {
   "cell_type": "code",
   "execution_count": 20,
   "metadata": {},
   "outputs": [
    {
     "ename": "AttributeError",
     "evalue": "module 'speech_recognition' has no attribute 'recognizer'",
     "output_type": "error",
     "traceback": [
      "\u001b[1;31m---------------------------------------------------------------------------\u001b[0m",
      "\u001b[1;31mAttributeError\u001b[0m                            Traceback (most recent call last)",
      "\u001b[1;32m<ipython-input-20-7921ff94ba9a>\u001b[0m in \u001b[0;36m<module>\u001b[1;34m\u001b[0m\n\u001b[0;32m     41\u001b[0m     \u001b[0mwishme\u001b[0m\u001b[1;33m(\u001b[0m\u001b[1;33m)\u001b[0m\u001b[1;33m\u001b[0m\u001b[1;33m\u001b[0m\u001b[0m\n\u001b[0;32m     42\u001b[0m     \u001b[1;32mwhile\u001b[0m \u001b[1;32mTrue\u001b[0m\u001b[1;33m:\u001b[0m\u001b[1;33m\u001b[0m\u001b[1;33m\u001b[0m\u001b[0m\n\u001b[1;32m---> 43\u001b[1;33m         \u001b[0mquery\u001b[0m\u001b[1;33m=\u001b[0m\u001b[0mtakecomand\u001b[0m\u001b[1;33m(\u001b[0m\u001b[1;33m)\u001b[0m\u001b[1;33m.\u001b[0m\u001b[0mlower\u001b[0m\u001b[1;33m(\u001b[0m\u001b[1;33m)\u001b[0m\u001b[1;33m\u001b[0m\u001b[1;33m\u001b[0m\u001b[0m\n\u001b[0m\u001b[0;32m     44\u001b[0m \u001b[1;33m\u001b[0m\u001b[0m\n\u001b[0;32m     45\u001b[0m         \u001b[1;32mif\u001b[0m \u001b[1;34m\"wikipedia\"\u001b[0m\u001b[1;32min\u001b[0m \u001b[0mquery\u001b[0m\u001b[1;33m:\u001b[0m\u001b[1;33m\u001b[0m\u001b[1;33m\u001b[0m\u001b[0m\n",
      "\u001b[1;32m<ipython-input-20-7921ff94ba9a>\u001b[0m in \u001b[0;36mtakecomand\u001b[1;34m()\u001b[0m\n\u001b[0;32m     16\u001b[0m \u001b[1;33m\u001b[0m\u001b[0m\n\u001b[0;32m     17\u001b[0m \u001b[1;32mdef\u001b[0m \u001b[0mtakecomand\u001b[0m\u001b[1;33m(\u001b[0m\u001b[1;33m)\u001b[0m\u001b[1;33m:\u001b[0m\u001b[1;33m\u001b[0m\u001b[1;33m\u001b[0m\u001b[0m\n\u001b[1;32m---> 18\u001b[1;33m     \u001b[0mr\u001b[0m\u001b[1;33m=\u001b[0m\u001b[0msr\u001b[0m\u001b[1;33m.\u001b[0m\u001b[0mrecognizer\u001b[0m\u001b[1;33m(\u001b[0m\u001b[1;33m)\u001b[0m\u001b[1;33m\u001b[0m\u001b[1;33m\u001b[0m\u001b[0m\n\u001b[0m\u001b[0;32m     19\u001b[0m     \u001b[1;32mwith\u001b[0m \u001b[0msr\u001b[0m\u001b[1;33m.\u001b[0m\u001b[0mMicrophone\u001b[0m\u001b[1;33m(\u001b[0m\u001b[1;33m)\u001b[0m\u001b[1;32mas\u001b[0m \u001b[0msource\u001b[0m\u001b[1;33m:\u001b[0m\u001b[1;33m\u001b[0m\u001b[1;33m\u001b[0m\u001b[0m\n\u001b[0;32m     20\u001b[0m         \u001b[0mprint\u001b[0m\u001b[1;33m(\u001b[0m\u001b[1;34m\"listining to you....\"\u001b[0m \u001b[1;33m)\u001b[0m\u001b[1;33m\u001b[0m\u001b[1;33m\u001b[0m\u001b[0m\n",
      "\u001b[1;31mAttributeError\u001b[0m: module 'speech_recognition' has no attribute 'recognizer'"
     ]
    }
   ],
   "source": [
    "engine=pyttsx3.init('sapi5')\n",
    "voices= engine.getProperty('voices')\n",
    "engine.setProperty('voice',voices[0].id)\n",
    "def speak(audio):\n",
    "    engine.say(audio)\n",
    "    engine.runAndWait()\n",
    "def wishme():\n",
    "    hour=(datetime.datetime.now().hour)\n",
    "    if hour>=0 and hour<=12:\n",
    "        speak(\"good morning friends\")\n",
    "    elif hour>=12 and hour<=18:\n",
    "        spea(\"good evaning friimport pyttsx3 end\")\n",
    "    else:\n",
    "        speak(\"good evening friends\")\n",
    "    speak(\"i an friends monty  i am made by rakesh.please tell me how can i healp you\")\n",
    "    \n",
    "def takecomand():\n",
    "    r=sr.recognizer()\n",
    "    with sr.Microphone()as source:\n",
    "        print(\"listining to you....\" )\n",
    "        r.Pause_threshold=1\n",
    "        audio = r.listen(source)\n",
    "        \n",
    "        try:\n",
    "            print(\"recognizing your voice...\")\n",
    "            query= r.recognize_google(audio,langauge=\"en-in\")\n",
    "            print(f\"rakesh said:{query}\\n\")\n",
    "        except exception as e:\n",
    "            print(\"rakeshmsay that aganin pleease..\")\n",
    "        return query\n",
    "def sendEmail(to,content):\n",
    "    server=smptlib.SMTP(\"smpt.gmail.com\",587)\n",
    "    server.ehol()\n",
    "    server.starttls()\n",
    "    server.login(\"youremail@gmail.com\",\"your-password\")\n",
    "    server.sendmail(youremail@gmail.com,to,content)\n",
    "    server.close()\n",
    "    \n",
    "\n",
    "if __name__==\"__main__\":\n",
    "    wishme()\n",
    "    while True:\n",
    "        query=takecomand().lower()\n",
    "        \n",
    "        if \"wikipedia\"in query:\n",
    "            speak(\"awarching wikipedia...\")\n",
    "            query=query.replace(\"wikipedia\")\n",
    "            result=wekipedi.summary(query)\n",
    "            spak(\"acording to wikipedia\")\n",
    "            print(resuts)\n",
    "            speak(results)\n",
    "        elif \"ope notpad in query\":\n",
    "            npath=\"C:\\\\WINDOWS\\\\system32\\\\notepad.exe\"\n",
    "            os.startfile(npath)\n",
    "            \n",
    "        elif \"open youtoube \" in query:\n",
    "            webbrowser.open(\"youtoube.com\")\n",
    "        elif \"open google \"in query:\n",
    "            webbrwser.open(\"google.com\")\n",
    "        \n",
    "        elif \"the time \"in query:\n",
    "            strTime=datetime.datetime.now().strftime(\"%H:%M:%S\")\n",
    "            speak(f\"rakesh,the time is {strtime}\")\n",
    "            \n",
    "        elif 'open chnel fun with data science'in query:\n",
    "            webbrowser.open(\"https:// youtoube.com/c/funwithdatascience\")\n",
    "            \n",
    "        elif \"open linkedin\" in query:\n",
    "            webbrowser.open(\"www.linkedin.com\")\n",
    "        \n",
    "        elif \"email to rakesh\" in query:\n",
    "            try:\n",
    "                speak(\"what should i send in the mail\")\n",
    "                content=takecommand()\n",
    "                to =\"rakeshkumarsah333@gmail.com\"\n",
    "                sendEmail(to,content)\n",
    "                speak(\"Email hans been send to rakesh\")\n",
    "            except Exception as e:\n",
    "                print(e)\n",
    "                speak(\"sorry i am not able to send the email as you need to enter the password\")\n",
    "                 \n",
    "            "
   ]
  },
  {
   "cell_type": "code",
   "execution_count": null,
   "metadata": {},
   "outputs": [],
   "source": []
  }
 ],
 "metadata": {
  "kernelspec": {
   "display_name": "Python 3",
   "language": "python",
   "name": "python3"
  },
  "language_info": {
   "codemirror_mode": {
    "name": "ipython",
    "version": 3
   },
   "file_extension": ".py",
   "mimetype": "text/x-python",
   "name": "python",
   "nbconvert_exporter": "python",
   "pygments_lexer": "ipython3",
   "version": "3.8.3"
  }
 },
 "nbformat": 4,
 "nbformat_minor": 4
}
